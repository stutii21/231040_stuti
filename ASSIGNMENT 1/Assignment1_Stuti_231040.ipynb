{
  "nbformat": 4,
  "nbformat_minor": 0,
  "metadata": {
    "colab": {
      "provenance": [],
      "authorship_tag": "ABX9TyOKqVdPi0SanAcMdwdKDlHH",
      "include_colab_link": true
    },
    "kernelspec": {
      "name": "python3",
      "display_name": "Python 3"
    },
    "language_info": {
      "name": "python"
    }
  },
  "cells": [
    {
      "cell_type": "markdown",
      "metadata": {
        "id": "view-in-github",
        "colab_type": "text"
      },
      "source": [
        "<a href=\"https://colab.research.google.com/github/stutii21/231040_stuti/blob/main/ASSIGNMENT%201/Assignment1_Stuti_231040.ipynb\" target=\"_parent\"><img src=\"https://colab.research.google.com/assets/colab-badge.svg\" alt=\"Open In Colab\"/></a>"
      ]
    },
    {
      "cell_type": "markdown",
      "source": [
        "Assignment 1\n",
        "\n"
      ],
      "metadata": {
        "id": "LJaaXovdmm3X"
      }
    },
    {
      "cell_type": "markdown",
      "source": [
        "Ans 1"
      ],
      "metadata": {
        "id": "kPhG6P8qOrko"
      }
    },
    {
      "cell_type": "code",
      "source": [
        "def fibonacci(n):\n",
        "  if n<=0:\n",
        "   return \"please enter positive number\"\n",
        "  elif n==1:\n",
        "   return [0]\n",
        "  elif n==2:\n",
        "   return [0,1]\n",
        "\n",
        "  fibo_series=[0,1]\n",
        "  for i in range(2,n):\n",
        "    num=fibo_series[-1]+fibo_series[-2]\n",
        "    fibo_series.append(num)\n",
        "  return fibo_series\n",
        "\n",
        "fibonacci(10)\n"
      ],
      "metadata": {
        "colab": {
          "base_uri": "https://localhost:8080/"
        },
        "id": "MqOeKgzkO5Qf",
        "outputId": "08bb985e-480c-4c1e-8407-3216383f4e7b"
      },
      "execution_count": 7,
      "outputs": [
        {
          "output_type": "execute_result",
          "data": {
            "text/plain": [
              "[0, 1, 1, 2, 3, 5, 8, 13, 21, 34]"
            ]
          },
          "metadata": {},
          "execution_count": 7
        }
      ]
    },
    {
      "cell_type": "markdown",
      "source": [
        "Ans 2\n"
      ],
      "metadata": {
        "id": "xjUMnjAmUJX3"
      }
    },
    {
      "cell_type": "code",
      "source": [
        "square=[x**2 for x in range(1,21)]\n",
        "print(square)\n",
        "cube={x:x**3 for x in range(1,11)}\n",
        "print(cube)"
      ],
      "metadata": {
        "colab": {
          "base_uri": "https://localhost:8080/"
        },
        "id": "MRlGOCqKULr1",
        "outputId": "4b138678-946b-40db-b2ee-cfdff7ffb836"
      },
      "execution_count": 12,
      "outputs": [
        {
          "output_type": "stream",
          "name": "stdout",
          "text": [
            "[1, 4, 9, 16, 25, 36, 49, 64, 81, 100, 121, 144, 169, 196, 225, 256, 289, 324, 361, 400]\n",
            "{1: 1, 2: 8, 3: 27, 4: 64, 5: 125, 6: 216, 7: 343, 8: 512, 9: 729, 10: 1000}\n"
          ]
        }
      ]
    },
    {
      "cell_type": "markdown",
      "source": [
        "Ans 3\n"
      ],
      "metadata": {
        "id": "HqZhcwJZYZTx"
      }
    },
    {
      "cell_type": "code",
      "source": [
        "import csv\n",
        "file_name='data.csv'\n",
        "data=[\n",
        "     [\"Name\",\"Age\",\"score\"],\n",
        "     [\"Aria\",20,30],\n",
        "     [\"Bob\",30,35],\n",
        "     [\"Zoe\",25,85],\n",
        "     [\"Maya\",20,95],\n",
        "     [\"Rock\",30,79],\n",
        "\n",
        " ]\n",
        "with open(file_name,'w',newline='') as file:\n",
        "   writer=csv.writer(file)\n",
        "   writer.writerows(data)\n",
        "\n",
        "with open(file_name, mode='r') as file:\n",
        "    csv_reader = csv.reader(file)\n",
        "\n",
        "\n",
        "    header = next(csv_reader)\n",
        "    print(header)\n",
        "\n",
        "    for row in csv_reader:\n",
        "      if int(row[2])>=75:\n",
        "        print(row)"
      ],
      "metadata": {
        "colab": {
          "base_uri": "https://localhost:8080/"
        },
        "id": "i6OCLHEtYb0R",
        "outputId": "a611641a-149a-41bd-891d-a11531e5764f"
      },
      "execution_count": 20,
      "outputs": [
        {
          "output_type": "stream",
          "name": "stdout",
          "text": [
            "['Name', 'Age', 'score']\n",
            "['Zoe', '25', '85']\n",
            "['Maya', '20', '95']\n",
            "['Rock', '30', '79']\n"
          ]
        }
      ]
    },
    {
      "cell_type": "markdown",
      "source": [
        "Ans 4\n"
      ],
      "metadata": {
        "id": "Yt92kisMirNY"
      }
    },
    {
      "cell_type": "code",
      "source": [
        "import numpy as np\n",
        "array=np.random.randint(10,100,size=25)\n",
        "max_value=np.max(array)\n",
        "min_value=np.min(array)\n",
        "max_index=np.argmax(array)\n",
        "min_index=np.argmin(array)\n",
        "print(array)\n",
        "print(\"max value:\",max_value)\n",
        "print(\"min value:\",min_value)\n",
        "print(\"max index:\",max_index)\n",
        "print(\"min index:\",min_index)\n",
        "\n",
        "for i in range(len(array)):\n",
        "  if array[i]%2!=0:\n",
        "    array[i]=-1\n",
        "\n",
        "print(array)"
      ],
      "metadata": {
        "colab": {
          "base_uri": "https://localhost:8080/"
        },
        "id": "M1btTEAZivCb",
        "outputId": "2392e041-d78c-4d31-eea0-f6873a0557d5"
      },
      "execution_count": 28,
      "outputs": [
        {
          "output_type": "stream",
          "name": "stdout",
          "text": [
            "[72 69 42 30 20 47 68 29 33 95 34 96 70 15 23 42 17 21 58 23 83 60 69 90\n",
            " 82]\n",
            "max value: 96\n",
            "min value: 15\n",
            "max index: 11\n",
            "min index: 13\n",
            "[72 -1 42 30 20 -1 68 -1 -1 -1 34 96 70 -1 -1 42 -1 -1 58 -1 -1 60 -1 90\n",
            " 82]\n"
          ]
        }
      ]
    },
    {
      "cell_type": "markdown",
      "source": [
        "Ans 5"
      ],
      "metadata": {
        "id": "fFkADo-mmn4Y"
      }
    },
    {
      "cell_type": "code",
      "source": [
        "import numpy as np\n",
        "matrix=np.random.randint(1,11,size=(5,5))\n",
        "print(matrix)\n",
        "diagonal_ele=(np.diag(matrix))\n",
        "print(\"Diagonal elements\")\n",
        "print(diagonal_ele)\n",
        "sum_above_diagonal = np.sum(np.triu(matrix, k=1))\n",
        "print(\"sum of above diagonal\")\n",
        "print(sum_above_diagonal)"
      ],
      "metadata": {
        "colab": {
          "base_uri": "https://localhost:8080/"
        },
        "id": "fUsDMhj0mqWi",
        "outputId": "2345f7c0-50cf-40e1-802d-c099280acea8"
      },
      "execution_count": 39,
      "outputs": [
        {
          "output_type": "stream",
          "name": "stdout",
          "text": [
            "[[ 9  7  3  2 10]\n",
            " [ 3  2  1  7  8]\n",
            " [ 6  1  6  2  4]\n",
            " [ 3  9  6  6  4]\n",
            " [ 4  8  3  6  2]]\n",
            "Diagonal elements\n",
            "[9 2 6 6 2]\n",
            "sum of above diagonal\n",
            "48\n"
          ]
        }
      ]
    },
    {
      "cell_type": "markdown",
      "source": [
        "Ans 6"
      ],
      "metadata": {
        "id": "pLaiUbuqvL6q"
      }
    },
    {
      "cell_type": "code",
      "source": [
        "import numpy as np\n",
        "array=np.random.rand(3,4,5)\n",
        "print(array)\n",
        "mean_array=np.mean(array)\n",
        "print(\"mean of array\")\n",
        "print(mean_array)\n",
        "median_array=np.median(array)\n",
        "print(\"median of array\")\n",
        "print(median_array)\n",
        "standard_deviation_array=np.std(array)\n",
        "print(\"standard deviation of array\")\n",
        "print(standard_deviation_array)\n",
        "\n",
        "normilalised_array=(array-mean_array)/standard_deviation_array\n",
        "print(\"normilalised array\")\n",
        "print(normilalised_array)"
      ],
      "metadata": {
        "colab": {
          "base_uri": "https://localhost:8080/"
        },
        "id": "mfWV-4SbvOF5",
        "outputId": "2a0f5389-d0dd-4ac4-9537-255132c28ef5"
      },
      "execution_count": 44,
      "outputs": [
        {
          "output_type": "stream",
          "name": "stdout",
          "text": [
            "[[[0.4579045  0.5352577  0.57060408 0.45701918 0.59687208]\n",
            "  [0.53940903 0.68455208 0.9341385  0.02196414 0.89377392]\n",
            "  [0.30183923 0.91185671 0.33967689 0.90684852 0.27859396]\n",
            "  [0.86061185 0.92404944 0.2257686  0.69917916 0.58557491]]\n",
            "\n",
            " [[0.09033137 0.43024703 0.66587491 0.10955102 0.18887979]\n",
            "  [0.04180571 0.18684587 0.4750288  0.56515019 0.94671286]\n",
            "  [0.34703137 0.15002665 0.07223475 0.44289476 0.07051173]\n",
            "  [0.00856983 0.56176308 0.38743226 0.18307222 0.35151411]]\n",
            "\n",
            " [[0.95423085 0.59287289 0.21001955 0.68048145 0.27649937]\n",
            "  [0.58214546 0.30461388 0.20820843 0.45096897 0.24494247]\n",
            "  [0.59339845 0.64880507 0.07501234 0.04587358 0.7336421 ]\n",
            "  [0.95114895 0.67766587 0.59612442 0.09690182 0.45586175]]]\n",
            "mean of array\n",
            "0.4563398406731881\n",
            "median of array\n",
            "0.4564404626043966\n",
            "standard deviation of array\n",
            "0.28026298008298123\n",
            "normilalised array\n",
            "[[[ 5.58281583e-03  2.81585015e-01  4.07703634e-01  2.42392727e-03\n",
            "    5.01429912e-01]\n",
            "  [ 2.96397294e-01  8.14278914e-01  1.70482259e+00 -1.54988612e+00\n",
            "    1.56079863e+00]\n",
            "  [-5.51270117e-01  1.62531942e+00 -4.16262442e-01  1.60744982e+00\n",
            "   -6.34211069e-01]\n",
            "  [ 1.44247382e+00  1.66882405e+00 -8.22696030e-01  8.66469477e-01\n",
            "    4.61120727e-01]]\n",
            "\n",
            " [[-1.30594654e+00 -9.31011618e-02  7.47637330e-01 -1.23736935e+00\n",
            "   -9.54318161e-01]\n",
            "  [-1.47908984e+00 -9.61575341e-01  6.66836462e-02  3.88243737e-01\n",
            "    1.74968888e+00]\n",
            "  [-3.90021078e-01 -1.09294918e+00 -1.37051667e+00 -4.79730990e-02\n",
            "   -1.37666454e+00]\n",
            "  [-1.59767805e+00  3.76158281e-01 -2.45867576e-01 -9.75040001e-01\n",
            "   -3.74026302e-01]]\n",
            "\n",
            " [[ 1.77651367e+00  4.87160502e-01 -8.78889854e-01  7.99754591e-01\n",
            "   -6.41684715e-01]\n",
            "  [ 4.48884198e-01 -5.41369968e-01 -8.85352061e-01 -1.91636908e-02\n",
            "   -7.54282175e-01]\n",
            "  [ 4.89035718e-01  6.86730842e-01 -1.36060604e+00 -1.46457539e+00\n",
            "    9.89435932e-01]\n",
            "  [ 1.76551718e+00  7.89708386e-01  4.98762190e-01 -1.28250268e+00\n",
            "   -1.70587359e-03]]]\n"
          ]
        }
      ]
    },
    {
      "cell_type": "markdown",
      "source": [
        "Ans 7"
      ],
      "metadata": {
        "id": "dL84knB00g-i"
      }
    },
    {
      "cell_type": "code",
      "source": [
        "import numpy as np\n",
        "\n",
        "array_2d = np.random.randint(1, 10, size=(4, 4))\n",
        "array_column = np.random.randint(1, 10, size=(4, 1))\n",
        "print(\"2D Array\")\n",
        "print(array_2d)\n",
        "print(\"Column Array\")\n",
        "print(array_column)\n",
        "\n",
        "result_array = array_2d + array_column\n",
        "print(\"Result\")\n",
        "print(result_array)"
      ],
      "metadata": {
        "colab": {
          "base_uri": "https://localhost:8080/"
        },
        "id": "qukR453k0kBf",
        "outputId": "005f418c-8611-4ede-e47b-ccb323999d91"
      },
      "execution_count": 48,
      "outputs": [
        {
          "output_type": "stream",
          "name": "stdout",
          "text": [
            "2D Array\n",
            "[[5 9 5 8]\n",
            " [8 1 4 4]\n",
            " [4 7 8 7]\n",
            " [6 3 9 6]]\n",
            "Column Array\n",
            "[[5]\n",
            " [3]\n",
            " [7]\n",
            " [2]]\n",
            "Result\n",
            "[[10 14 10 13]\n",
            " [11  4  7  7]\n",
            " [11 14 15 14]\n",
            " [ 8  5 11  8]]\n"
          ]
        }
      ]
    },
    {
      "cell_type": "markdown",
      "source": [
        "Ans 8"
      ],
      "metadata": {
        "id": "HtvVOqeu6QkW"
      }
    },
    {
      "cell_type": "code",
      "source": [
        "import pandas as pd\n",
        "\n",
        "data = {\n",
        "    \"Product\": [\"Laptop\", \"Mouse\", \"Keyboard\", \"Monitor\", \"Printer\",\n",
        "                \"Phone\", \"Tablet\", \"Speaker\", \"Headphones\", \"Camera\"],\n",
        "    \"Price\": [850.00, 25.00, 45.00, 200.00, 150.00,\n",
        "              600.00, 300.00, 75.00, 50.00, 400.00],\n",
        "    \"Quantity\": [10, 50, 30, 20, 15, 25, 12, 18, 40, 8]\n",
        "}\n",
        "\n",
        "df = pd.DataFrame(data)\n",
        "print(df)\n",
        "df[\"Total Value\"] = df[\"Price\"] * df[\"Quantity\"]\n",
        "\n",
        "df_sorted = df.sort_values(by=\"Total Value\", ascending=False)\n",
        "\n",
        "print(\"Sorted DataFrame\")\n",
        "print(df_sorted)\n"
      ],
      "metadata": {
        "colab": {
          "base_uri": "https://localhost:8080/"
        },
        "id": "jTKheaDi6Tg-",
        "outputId": "8942af93-14cc-4b30-d8b6-5bb591a0fdff"
      },
      "execution_count": 51,
      "outputs": [
        {
          "output_type": "stream",
          "name": "stdout",
          "text": [
            "      Product  Price  Quantity\n",
            "0      Laptop  850.0        10\n",
            "1       Mouse   25.0        50\n",
            "2    Keyboard   45.0        30\n",
            "3     Monitor  200.0        20\n",
            "4     Printer  150.0        15\n",
            "5       Phone  600.0        25\n",
            "6      Tablet  300.0        12\n",
            "7     Speaker   75.0        18\n",
            "8  Headphones   50.0        40\n",
            "9      Camera  400.0         8\n",
            "Sorted DataFrame\n",
            "      Product  Price  Quantity  Total Value\n",
            "5       Phone  600.0        25      15000.0\n",
            "0      Laptop  850.0        10       8500.0\n",
            "3     Monitor  200.0        20       4000.0\n",
            "6      Tablet  300.0        12       3600.0\n",
            "9      Camera  400.0         8       3200.0\n",
            "4     Printer  150.0        15       2250.0\n",
            "8  Headphones   50.0        40       2000.0\n",
            "2    Keyboard   45.0        30       1350.0\n",
            "7     Speaker   75.0        18       1350.0\n",
            "1       Mouse   25.0        50       1250.0\n"
          ]
        }
      ]
    },
    {
      "cell_type": "markdown",
      "source": [
        "Ans 9"
      ],
      "metadata": {
        "id": "kRZSyS7f834r"
      }
    },
    {
      "cell_type": "code",
      "source": [
        "import pandas as pd\n",
        "\n",
        "titanic_url = 'https://raw.githubusercontent.com/datasciencedojo/datasets/master/titanic.csv'\n",
        "df = pd.read_csv(titanic_url)\n",
        "\n",
        "under_18 = df[df['Age'] < 18]\n",
        "print(\"Passengers under 18:\")\n",
        "print(under_18)\n",
        "survived_female = df[(df['Sex'] == 'female') & (df['Survived'] == 1)]\n",
        "print(\"survived female\")\n",
        "print(survived_female)"
      ],
      "metadata": {
        "colab": {
          "base_uri": "https://localhost:8080/"
        },
        "id": "53a418LA87Dv",
        "outputId": "a80b0609-7552-4aa9-a10c-2ab741dd803d"
      },
      "execution_count": 56,
      "outputs": [
        {
          "output_type": "stream",
          "name": "stdout",
          "text": [
            "Passengers under 18:\n",
            "     PassengerId  Survived  Pclass                                     Name  \\\n",
            "7              8         0       3           Palsson, Master. Gosta Leonard   \n",
            "9             10         1       2      Nasser, Mrs. Nicholas (Adele Achem)   \n",
            "10            11         1       3          Sandstrom, Miss. Marguerite Rut   \n",
            "14            15         0       3     Vestrom, Miss. Hulda Amanda Adolfina   \n",
            "16            17         0       3                     Rice, Master. Eugene   \n",
            "..           ...       ...     ...                                      ...   \n",
            "850          851         0       3  Andersson, Master. Sigvard Harald Elias   \n",
            "852          853         0       3                  Boulos, Miss. Nourelain   \n",
            "853          854         1       1                Lines, Miss. Mary Conover   \n",
            "869          870         1       3          Johnson, Master. Harold Theodor   \n",
            "875          876         1       3         Najib, Miss. Adele Kiamie \"Jane\"   \n",
            "\n",
            "        Sex   Age  SibSp  Parch    Ticket     Fare Cabin Embarked  \n",
            "7      male   2.0      3      1    349909  21.0750   NaN        S  \n",
            "9    female  14.0      1      0    237736  30.0708   NaN        C  \n",
            "10   female   4.0      1      1   PP 9549  16.7000    G6        S  \n",
            "14   female  14.0      0      0    350406   7.8542   NaN        S  \n",
            "16     male   2.0      4      1    382652  29.1250   NaN        Q  \n",
            "..      ...   ...    ...    ...       ...      ...   ...      ...  \n",
            "850    male   4.0      4      2    347082  31.2750   NaN        S  \n",
            "852  female   9.0      1      1      2678  15.2458   NaN        C  \n",
            "853  female  16.0      0      1  PC 17592  39.4000   D28        S  \n",
            "869    male   4.0      1      1    347742  11.1333   NaN        S  \n",
            "875  female  15.0      0      0      2667   7.2250   NaN        C  \n",
            "\n",
            "[113 rows x 12 columns]\n",
            "survived female\n",
            "     PassengerId  Survived  Pclass  \\\n",
            "1              2         1       1   \n",
            "2              3         1       3   \n",
            "3              4         1       1   \n",
            "8              9         1       3   \n",
            "9             10         1       2   \n",
            "..           ...       ...     ...   \n",
            "874          875         1       2   \n",
            "875          876         1       3   \n",
            "879          880         1       1   \n",
            "880          881         1       2   \n",
            "887          888         1       1   \n",
            "\n",
            "                                                  Name     Sex   Age  SibSp  \\\n",
            "1    Cumings, Mrs. John Bradley (Florence Briggs Th...  female  38.0      1   \n",
            "2                               Heikkinen, Miss. Laina  female  26.0      0   \n",
            "3         Futrelle, Mrs. Jacques Heath (Lily May Peel)  female  35.0      1   \n",
            "8    Johnson, Mrs. Oscar W (Elisabeth Vilhelmina Berg)  female  27.0      0   \n",
            "9                  Nasser, Mrs. Nicholas (Adele Achem)  female  14.0      1   \n",
            "..                                                 ...     ...   ...    ...   \n",
            "874              Abelson, Mrs. Samuel (Hannah Wizosky)  female  28.0      1   \n",
            "875                   Najib, Miss. Adele Kiamie \"Jane\"  female  15.0      0   \n",
            "879      Potter, Mrs. Thomas Jr (Lily Alexenia Wilson)  female  56.0      0   \n",
            "880       Shelley, Mrs. William (Imanita Parrish Hall)  female  25.0      0   \n",
            "887                       Graham, Miss. Margaret Edith  female  19.0      0   \n",
            "\n",
            "     Parch            Ticket     Fare Cabin Embarked  \n",
            "1        0          PC 17599  71.2833   C85        C  \n",
            "2        0  STON/O2. 3101282   7.9250   NaN        S  \n",
            "3        0            113803  53.1000  C123        S  \n",
            "8        2            347742  11.1333   NaN        S  \n",
            "9        0            237736  30.0708   NaN        C  \n",
            "..     ...               ...      ...   ...      ...  \n",
            "874      0         P/PP 3381  24.0000   NaN        C  \n",
            "875      0              2667   7.2250   NaN        C  \n",
            "879      1             11767  83.1583   C50        C  \n",
            "880      1            230433  26.0000   NaN        S  \n",
            "887      0            112053  30.0000   B42        S  \n",
            "\n",
            "[233 rows x 12 columns]\n"
          ]
        }
      ]
    },
    {
      "cell_type": "markdown",
      "source": [
        "Ans 10"
      ],
      "metadata": {
        "id": "Oi3KvPM8A-5w"
      }
    },
    {
      "cell_type": "code",
      "source": [
        "import seaborn as sns\n",
        "import pandas as pd\n",
        "\n",
        "iris = sns.load_dataset('iris')\n",
        "\n",
        "data = iris.groupby('species')[['petal_length', 'sepal_width']].mean()\n",
        "\n",
        "print(data)"
      ],
      "metadata": {
        "colab": {
          "base_uri": "https://localhost:8080/"
        },
        "id": "czUU51u_BA2W",
        "outputId": "866e81ef-b7c4-4517-ea8e-4aeaf658d81b"
      },
      "execution_count": 58,
      "outputs": [
        {
          "output_type": "stream",
          "name": "stdout",
          "text": [
            "            petal_length  sepal_width\n",
            "species                              \n",
            "setosa             1.462        3.428\n",
            "versicolor         4.260        2.770\n",
            "virginica          5.552        2.974\n"
          ]
        }
      ]
    },
    {
      "cell_type": "markdown",
      "source": [
        "Ans 11"
      ],
      "metadata": {
        "id": "RsrYMLntBjxd"
      }
    },
    {
      "cell_type": "code",
      "source": [
        "import pandas as pd\n",
        "import numpy as np\n",
        "\n",
        "np.random.seed(42)\n",
        "data = np.random.randint(1, 100, size=(5, 5))\n",
        "df = pd.DataFrame(data, columns=['X', 'Y', 'Z', 'W','V'])\n",
        "\n",
        "df.loc[0, 'X'] = np.nan\n",
        "df.loc[2, 'Y'] = np.nan\n",
        "df.loc[4, 'Z'] = np.nan\n",
        "df.loc[1, 'W'] = np.nan\n",
        "\n",
        "print(\"Original DataFrame\")\n",
        "print(df)\n",
        "\n",
        "\n",
        "df_new = df.apply(lambda x: x.fillna(x.mean()), axis=0)\n",
        "\n",
        "print(\"DataFrame after replacing NaN values with the column mean\")\n",
        "print(df_new)\n"
      ],
      "metadata": {
        "colab": {
          "base_uri": "https://localhost:8080/"
        },
        "id": "tw0TPbh5Ble2",
        "outputId": "cd8a20cb-d212-428f-d3d1-24917ded170a"
      },
      "execution_count": 62,
      "outputs": [
        {
          "output_type": "stream",
          "name": "stdout",
          "text": [
            "Original DataFrame\n",
            "      X     Y     Z     W   V\n",
            "0   NaN  93.0  15.0  72.0  61\n",
            "1  21.0  83.0  87.0   NaN  75\n",
            "2  88.0   NaN   3.0  22.0  53\n",
            "3   2.0  88.0  30.0  38.0   2\n",
            "4  64.0  60.0   NaN  33.0  76\n",
            "DataFrame after replacing NaN values with the column mean\n",
            "       X     Y      Z      W   V\n",
            "0  43.75  93.0  15.00  72.00  61\n",
            "1  21.00  83.0  87.00  41.25  75\n",
            "2  88.00  81.0   3.00  22.00  53\n",
            "3   2.00  88.0  30.00  38.00   2\n",
            "4  64.00  60.0  33.75  33.00  76\n"
          ]
        }
      ]
    },
    {
      "cell_type": "markdown",
      "source": [
        "Ans 12"
      ],
      "metadata": {
        "id": "a8CODpPyEfXQ"
      }
    },
    {
      "cell_type": "code",
      "source": [
        "import pandas as pd\n",
        "\n",
        "data1 = {\n",
        "    'id': [1, 2, 3, 4, 5],\n",
        "    'name': ['John', 'Alice', 'Tom', 'Sophia', 'Lucas']\n",
        "}\n",
        "df1 = pd.DataFrame(data1)\n",
        "\n",
        "data2 = {\n",
        "    'id': [1, 2, 3, 6, 7],\n",
        "    'score': [95, 88, 77, 92, 85]\n",
        "}\n",
        "df2 = pd.DataFrame(data2)\n",
        "merged_df = pd.merge(df1, df2, on='id')\n",
        "print(\"Merged DataFrame:\")\n",
        "print(merged_df)\n"
      ],
      "metadata": {
        "colab": {
          "base_uri": "https://localhost:8080/"
        },
        "id": "vNyQHv0dEhRF",
        "outputId": "59af383e-1001-46ac-8824-f4aff54db44d"
      },
      "execution_count": 63,
      "outputs": [
        {
          "output_type": "stream",
          "name": "stdout",
          "text": [
            "Merged DataFrame:\n",
            "   id   name  score\n",
            "0   1   John     95\n",
            "1   2  Alice     88\n",
            "2   3    Tom     77\n"
          ]
        }
      ]
    },
    {
      "cell_type": "markdown",
      "source": [
        "Ans 13"
      ],
      "metadata": {
        "id": "cwgS2aPvHXuj"
      }
    },
    {
      "cell_type": "code",
      "source": [
        "import numpy as np\n",
        "import matplotlib.pyplot as plt\n",
        "\n",
        "months = np.arange(1, 13)\n",
        "revenue = np.random.randint(1000, 10000, size=12)\n",
        "\n",
        "plt.plot(months, revenue, label='Revenue', color='black', marker='.')\n",
        "plt.title('Monthly Revenue of the Company')\n",
        "plt.xlabel('Month')\n",
        "plt.ylabel('Revenue')\n",
        "plt.xticks(months)\n",
        "plt.grid(True)\n",
        "plt.legend()\n",
        "plt.show()\n"
      ],
      "metadata": {
        "colab": {
          "base_uri": "https://localhost:8080/",
          "height": 472
        },
        "id": "copktydrHamZ",
        "outputId": "8bf12ed0-2d5c-4d2f-969c-4162088f1408"
      },
      "execution_count": 65,
      "outputs": [
        {
          "output_type": "display_data",
          "data": {
            "text/plain": [
              "<Figure size 640x480 with 1 Axes>"
            ],
            "image/png": "[encoded data removed]"
          },
          "metadata": {}
        }
      ]
    },
    {
      "cell_type": "markdown",
      "source": [
        "Ans 14"
      ],
      "metadata": {
        "id": "EkhHgFLSKDeL"
      }
    },
    {
      "cell_type": "code",
      "source": [
        "import numpy as np\n",
        "import matplotlib.pyplot as plt\n",
        "\n",
        "products = ['Product A', 'Product B', 'Product C', 'Product D', 'Product E']\n",
        "region_1_sales = np.random.randint(100, 1000, size=5)\n",
        "region_2_sales = np.random.randint(100, 1000, size=5)\n",
        "x = np.arange(len(products))\n",
        "width = 0.25\n",
        "\n",
        "\n",
        "fig, ax = plt.subplots()\n",
        "bars1 = ax.bar(x - width/2, region_1_sales, width, label='Region 1', color='r')\n",
        "bars2 = ax.bar(x + width/2, region_2_sales, width, label='Region 2', color='y')\n",
        "\n",
        "ax.set_title('Sales Comparison between Two Regions for Five Products')\n",
        "ax.set_xlabel('Products')\n",
        "ax.set_ylabel('Sales (in units)')\n",
        "ax.set_xticks(x)\n",
        "ax.set_xticklabels(products)\n",
        "ax.legend()\n",
        "plt.show()\n"
      ],
      "metadata": {
        "colab": {
          "base_uri": "https://localhost:8080/",
          "height": 472
        },
        "id": "9hnWrOubKHuk",
        "outputId": "36ab1206-335b-4e1d-dd29-feddd03ddebd"
      },
      "execution_count": 71,
      "outputs": [
        {
          "output_type": "display_data",
          "data": {
            "text/plain": [
              "<Figure size 640x480 with 1 Axes>"
            ],
            "image/png": "[encoded data removed]"
          },
          "metadata": {}
        }
      ]
    },
    {
      "cell_type": "markdown",
      "source": [
        "Ans 15"
      ],
      "metadata": {
        "id": "D3MNFRHyMaOS"
      }
    },
    {
      "cell_type": "code",
      "source": [
        "import seaborn as sns\n",
        "import matplotlib.pyplot as plt\n",
        "\n",
        "iris = sns.load_dataset('iris')\n",
        "plt.figure(figsize=(6, 6))\n",
        "sns.scatterplot(x='petal_length', y='petal_width', hue='species', data=iris, palette='Set1')\n",
        "plt.title('Petal Length vs Petal Width for Different Species of Iris')\n",
        "plt.xlabel('Petal Length (cm)')\n",
        "plt.ylabel('Petal Width (cm)')\n",
        "plt.legend(title='Species')\n",
        "plt.show()\n"
      ],
      "metadata": {
        "colab": {
          "base_uri": "https://localhost:8080/",
          "height": 564
        },
        "id": "UkirjZOJMcJe",
        "outputId": "bd98be8b-1a80-47c9-ed84-4e453367f0c5"
      },
      "execution_count": 75,
      "outputs": [
        {
          "output_type": "display_data",
          "data": {
            "text/plain": [
              "<Figure size 600x600 with 1 Axes>"
            ],
            "image/png": "[encoded data removed]"
          },
          "metadata": {}
        }
      ]
    }
  ]
}